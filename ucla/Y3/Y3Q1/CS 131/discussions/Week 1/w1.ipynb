{
 "cells": [
  {
   "cell_type": "code",
   "execution_count": 8,
   "metadata": {},
   "outputs": [
    {
     "data": {
      "text/plain": [
       "[8, 9, 10, 11, 'geeks', 13]"
      ]
     },
     "execution_count": 8,
     "metadata": {},
     "output_type": "execute_result"
    }
   ],
   "source": [
    "# Problem 2 - flatten nested list using recursion\n",
    "def flatten(l: list) -> list:\n",
    "  if type(l) != list:\n",
    "    return [l]\n",
    "  flat = []\n",
    "  for x in l:\n",
    "    flat += flatten(x)\n",
    "  return flat\n",
    "  \n",
    "\n",
    "flatten([[8, 9], [10, 11, 'geeks'], [13]])\n",
    "\n",
    "  "
   ]
  },
  {
   "cell_type": "code",
   "execution_count": 12,
   "metadata": {},
   "outputs": [
    {
     "data": {
      "text/plain": [
       "1"
      ]
     },
     "execution_count": 12,
     "metadata": {},
     "output_type": "execute_result"
    }
   ],
   "source": [
    "# Problem 3 - mode of a list\n",
    "from collections import defaultdict\n",
    "def mode(a: list) -> int:\n",
    "  h = defaultdict(int)\n",
    "  for i in a:\n",
    "    h[i] += 1\n",
    "  return max(h, key=h.get)\n",
    "\n",
    "mode([1, 0, 1, 2, 3, -1, 5, 1, 2, 1])"
   ]
  },
  {
   "cell_type": "code",
   "execution_count": 14,
   "metadata": {},
   "outputs": [
    {
     "data": {
      "text/plain": [
       "4"
      ]
     },
     "execution_count": 14,
     "metadata": {},
     "output_type": "execute_result"
    }
   ],
   "source": [
    "class Node:\n",
    "  def __init__(self, value: int, children=[]):\n",
    "    self.value = value\n",
    "    self.children = children\n",
    "  \n",
    "  def largest(self) -> int:\n",
    "    if len(self.children) == 0:\n",
    "      return self.value\n",
    "    return max(self.value, max([x.largest() for x in self.children]))\n",
    "  \n",
    "  def height(self) -> int:\n",
    "    if len(self.children) == 0:\n",
    "      return 1\n",
    "    return 1 + max([x.height() for x in self.children])\n",
    "\n",
    "root = Node(1, [Node(2, [Node(4),Node(5),Node(9)]),Node(3, [Node(6),Node(7, [Node(8)])])])\n",
    "\n",
    "root.largest()\n",
    "root.height()"
   ]
  },
  {
   "cell_type": "code",
   "execution_count": 16,
   "metadata": {},
   "outputs": [
    {
     "data": {
      "text/plain": [
       "12"
      ]
     },
     "execution_count": 16,
     "metadata": {},
     "output_type": "execute_result"
    }
   ],
   "source": [
    "# Problem 5 - find digit distance using recursion\n",
    "def digit_distance(n: int) -> int:\n",
    "  if len(n) == 1:\n",
    "    return 0\n",
    "  return abs(int(n[0]) - int(n[1])) + digit_distance(n[1:])\n",
    "\n",
    "digit_distance('71253')\n"
   ]
  },
  {
   "cell_type": "code",
   "execution_count": null,
   "metadata": {},
   "outputs": [],
   "source": []
  }
 ],
 "metadata": {
  "kernelspec": {
   "display_name": "torch",
   "language": "python",
   "name": "python3"
  },
  "language_info": {
   "codemirror_mode": {
    "name": "ipython",
    "version": 3
   },
   "file_extension": ".py",
   "mimetype": "text/x-python",
   "name": "python",
   "nbconvert_exporter": "python",
   "pygments_lexer": "ipython3",
   "version": "3.9.16"
  }
 },
 "nbformat": 4,
 "nbformat_minor": 2
}
