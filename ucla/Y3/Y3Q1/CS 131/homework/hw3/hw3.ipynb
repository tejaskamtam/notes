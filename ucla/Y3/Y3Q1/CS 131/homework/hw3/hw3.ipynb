{
 "cells": [
  {
   "cell_type": "code",
   "execution_count": 5,
   "metadata": {},
   "outputs": [
    {
     "name": "stdout",
     "output_type": "stream",
     "text": [
      "3 15\n"
     ]
    }
   ],
   "source": [
    "class Box:\n",
    "  def __init__(self, value):\n",
    "    self.value = value\n",
    "def quintuple(num):\n",
    "  num *= 5\n",
    "def box_quintuple(box):\n",
    "  box.value *= 5\n",
    "\n",
    "num = 3\n",
    "box = Box(3)\n",
    "\n",
    "quintuple(num)\n",
    "box_quintuple(box)\n",
    "\n",
    "print(f\"{num} {box.value}\")"
   ]
  },
  {
   "cell_type": "code",
   "execution_count": 7,
   "metadata": {},
   "outputs": [
    {
     "name": "stdout",
     "output_type": "stream",
     "text": [
      "joke6\n",
      "joke3\n",
      "joke4\n"
     ]
    }
   ],
   "source": [
    "import copy\n",
    "class Comedian:\n",
    "  def __init__(self, joke):\n",
    "    self.__joke = joke\n",
    "  def change_joke(self, joke):\n",
    "    self.__joke = joke\n",
    "  def get_joke(self):\n",
    "    return self.__joke\n",
    "\n",
    "def process(c):\n",
    "  # c = copy.copy(c)\n",
    "  c[1] = Comedian(\"joke3\")\n",
    "  c.append(Comedian(\"joke4\"))\n",
    "  c = c + [Comedian(\"joke5\")]\n",
    "  c[0].change_joke(\"joke6\")\n",
    "\n",
    "def main():\n",
    "  c1 = Comedian(\"joke1\")\n",
    "  c2 = Comedian(\"joke2\")\n",
    "  com = [c1,c2]\n",
    "  process(com)\n",
    "  c1 = Comedian(\"joke7\")\n",
    "  for c in com:\n",
    "    print(c.get_joke())\n",
    "\n",
    "main()"
   ]
  },
  {
   "cell_type": "code",
   "execution_count": 13,
   "metadata": {},
   "outputs": [
    {
     "data": {
      "text/plain": [
       "(14, 10)"
      ]
     },
     "execution_count": 13,
     "metadata": {},
     "output_type": "execute_result"
    }
   ],
   "source": [
    "def largest_sum(nums, k):\n",
    "  if k < 0 or k > len(nums):\n",
    "    raise ValueError\n",
    "  elif k == 0:\n",
    "    return 0\n",
    "\n",
    "  max_sum = None\n",
    "  for i in range(len(nums)-k+1):\n",
    "    sum = 0\n",
    "    for num in nums[i:i+k]:\n",
    "      sum += num\n",
    "    if max_sum == None or sum > max_sum:\n",
    "      max_sum = sum\n",
    "  return max_sum\n",
    "\n",
    "largest_sum([3,5,6,2,3,4,5], 3), largest_sum([10,-8,2,6,-1,2], 4)"
   ]
  },
  {
   "cell_type": "code",
   "execution_count": 16,
   "metadata": {},
   "outputs": [
    {
     "name": "stdout",
     "output_type": "stream",
     "text": [
      "Start: 10, End: 20\n",
      "Created an invalid event\n"
     ]
    }
   ],
   "source": [
    "class Event:\n",
    "  def __init__(self, start, end):\n",
    "    if start > end:\n",
    "      raise ValueError\n",
    "    self.start_time = start\n",
    "    self.end_time = end\n",
    "\n",
    "\n",
    "event = Event(10, 20)\n",
    "print(f\"Start: {event.start_time}, End: {event.end_time}\")\n",
    "try:\n",
    "  invalid_event = Event(20, 10)\n",
    "  print(\"Success\")\n",
    "except ValueError:\n",
    "  print(\"Created an invalid event\")"
   ]
  },
  {
   "cell_type": "code",
   "execution_count": 17,
   "metadata": {},
   "outputs": [
    {
     "name": "stdout",
     "output_type": "stream",
     "text": [
      "[]\n",
      "10\n",
      "Invalid event\n"
     ]
    }
   ],
   "source": [
    "class Calendar:\n",
    "  def __init__(self):\n",
    "    self.__events = []\n",
    "  def get_events(self):\n",
    "    return self.__events\n",
    "  def add_event(self, event):\n",
    "    if type(event) != Event: raise TypeError()\n",
    "    self.__events.append(event)\n",
    "\n",
    "calendar = Calendar()\n",
    "print(calendar.get_events())\n",
    "calendar.add_event(Event(10, 20))\n",
    "print(calendar.get_events()[0].start_time)\n",
    "try:\n",
    "  calendar.add_event(\"not an event\")\n",
    "except TypeError:\n",
    "  print(\"Invalid event\")"
   ]
  },
  {
   "cell_type": "code",
   "execution_count": 23,
   "metadata": {},
   "outputs": [
    {
     "name": "stdout",
     "output_type": "stream",
     "text": [
      "[]\n"
     ]
    }
   ],
   "source": [
    "class AdventCalendar(Calendar):\n",
    "  def __init__(self, year):\n",
    "    super().__init__()\n",
    "    self.year = year\n",
    "\n",
    "advent_calendar = AdventCalendar(2022)\n",
    "print(advent_calendar.get_events())"
   ]
  },
  {
   "cell_type": "code",
   "execution_count": 9,
   "metadata": {},
   "outputs": [
    {
     "name": "stdout",
     "output_type": "stream",
     "text": [
      "4592369264\n",
      "4597826736\n",
      "4597777664\n",
      "4597777664\n"
     ]
    }
   ],
   "source": [
    "truth = \"hello\"\n",
    "print(id(truth))\n",
    "truth += \" world\"\n",
    "print(id(truth))\n",
    "\n",
    "a = [1,2,3]\n",
    "print(id(a))\n",
    "a += [4,5,6]\n",
    "print(id(a))"
   ]
  }
 ],
 "metadata": {
  "kernelspec": {
   "display_name": "py311",
   "language": "python",
   "name": "python3"
  },
  "language_info": {
   "codemirror_mode": {
    "name": "ipython",
    "version": 3
   },
   "file_extension": ".py",
   "mimetype": "text/x-python",
   "name": "python",
   "nbconvert_exporter": "python",
   "pygments_lexer": "ipython3",
   "version": "3.11.5"
  }
 },
 "nbformat": 4,
 "nbformat_minor": 2
}
