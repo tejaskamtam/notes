{
 "cells": [
  {
   "cell_type": "code",
   "execution_count": 10,
   "metadata": {},
   "outputs": [],
   "source": [
    "# Problem 1\n",
    "from functools import reduce\n",
    "def convert_to_decimal(bits):\n",
    "  exponents = range(len(bits)-1, -1, -1)\n",
    "  nums = [bit*2**exp for bit,exp in zip(bits, exponents)]\n",
    "  return reduce(lambda acc, num: acc + num, nums)\n",
    "assert convert_to_decimal([1, 0, 1, 1, 0]) == 22\n",
    "assert convert_to_decimal([1, 0, 1]) == 5\n"
   ]
  },
  {
   "cell_type": "code",
   "execution_count": 16,
   "metadata": {},
   "outputs": [
    {
     "data": {
      "text/plain": [
       "[('apple', '8'), ('pear', '24'), ('gooseberry', '-2')]"
      ]
     },
     "execution_count": 16,
     "metadata": {},
     "output_type": "execute_result"
    }
   ],
   "source": [
    "# Problem 2a - parse_csv\n",
    "def parse_csv(l: list):\n",
    "  return [(a,b) for a,b in [x.split(',') for x in l]]\n",
    "\n",
    "parse_csv([\"apple,8\", \"pear,24\", \"gooseberry,-2\"])"
   ]
  },
  {
   "cell_type": "code",
   "execution_count": 20,
   "metadata": {},
   "outputs": [
    {
     "data": {
      "text/plain": [
       "{'a', 'h', 'p', 'y'}"
      ]
     },
     "execution_count": 20,
     "metadata": {},
     "output_type": "execute_result"
    }
   ],
   "source": [
    "# Problem 2b - unique_characters\n",
    "def unique_characters(s: str):\n",
    "  return {c for c in s}\n",
    "\n",
    "unique_characters(\"happy\")"
   ]
  },
  {
   "cell_type": "code",
   "execution_count": 23,
   "metadata": {},
   "outputs": [
    {
     "data": {
      "text/plain": [
       "{1: 1, 2: 4, 3: 9, 4: 16, 5: 25}"
      ]
     },
     "execution_count": 23,
     "metadata": {},
     "output_type": "execute_result"
    }
   ],
   "source": [
    "# Problem 2c - squares_dict\n",
    "def squares_dict(n: int, m: int):\n",
    "  return {i:i**2 for i in range(1,m+1)}\n",
    "\n",
    "squares_dict(1, 5)"
   ]
  },
  {
   "cell_type": "code",
   "execution_count": 26,
   "metadata": {},
   "outputs": [
    {
     "data": {
      "text/plain": [
       "'He, wrd!'"
      ]
     },
     "execution_count": 26,
     "metadata": {},
     "output_type": "execute_result"
    }
   ],
   "source": [
    "# Problem 3 - strip_chars\n",
    "def strip_characters(sentence, chars_to_remove):\n",
    "  return ''.join([c for c in sentence if c not in chars_to_remove])\n",
    "strip_characters(\"Hello, world!\", {\"o\", \"h\", \"l\"})"
   ]
  },
  {
   "cell_type": "code",
   "execution_count": 1,
   "metadata": {},
   "outputs": [
    {
     "name": "stdout",
     "output_type": "stream",
     "text": [
      "Hello, Earth\n"
     ]
    }
   ],
   "source": [
    "# Problem 4 - prove python has closures\n",
    "def greet(world):\n",
    "  def speak():\n",
    "    return \"Hello, \" + world\n",
    "  print(speak())\n",
    "\n",
    "greet(\"Earth\")"
   ]
  },
  {
   "cell_type": "code",
   "execution_count": 5,
   "metadata": {},
   "outputs": [
    {
     "data": {
      "text/plain": [
       "True"
      ]
     },
     "execution_count": 5,
     "metadata": {},
     "output_type": "execute_result"
    }
   ],
   "source": [
    "a = [\"start\",1,2]\n",
    "b = [\"start\", a]\n",
    "id(b[0]) == id(a[0])"
   ]
  },
  {
   "cell_type": "code",
   "execution_count": 20,
   "metadata": {},
   "outputs": [
    {
     "data": {
      "text/plain": [
       "55.000000000000014"
      ]
     },
     "execution_count": 20,
     "metadata": {},
     "output_type": "execute_result"
    }
   ],
   "source": [
    "# Problem 5a\n",
    "from math import sqrt\n",
    "def nth_fibonacci(n: int) -> int:\n",
    "  phi: int = (1 + sqrt(5))/2\n",
    "  psi: int = (1 - sqrt(5))/2\n",
    "  return (phi**n - psi**n)/sqrt(5)\n",
    "\n",
    "nth_fibonacci(10)"
   ]
  },
  {
   "cell_type": "code",
   "execution_count": null,
   "metadata": {},
   "outputs": [],
   "source": [
    "# Problem 5c\n",
    "\n"
   ]
  }
 ],
 "metadata": {
  "kernelspec": {
   "display_name": "py311",
   "language": "python",
   "name": "python3"
  },
  "language_info": {
   "codemirror_mode": {
    "name": "ipython",
    "version": 3
   },
   "file_extension": ".py",
   "mimetype": "text/x-python",
   "name": "python",
   "nbconvert_exporter": "python",
   "pygments_lexer": "ipython3",
   "version": "3.11.5"
  }
 },
 "nbformat": 4,
 "nbformat_minor": 2
}
