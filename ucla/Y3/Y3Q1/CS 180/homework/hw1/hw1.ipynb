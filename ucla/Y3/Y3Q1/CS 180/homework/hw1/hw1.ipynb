{
 "cells": [
  {
   "cell_type": "code",
   "execution_count": 13,
   "metadata": {},
   "outputs": [],
   "source": [
    "from collections import defaultdict\n",
    "\n",
    "def largest_min_freq(A):\n",
    "\t# Step 1\n",
    "\tB = defaultdict(int)\n",
    "\tfor x in A:\n",
    "\t\tB[x] += 1\n",
    "\t# Step 2\n",
    "\tmin_freq = min(B.values())\n",
    "\t# Step 3\n",
    "\tC = [key for key in B if B[key]==min_freq]\n",
    "\t# Step 4\n",
    "\tlargest = max(C)\n",
    "\treturn largest"
   ]
  },
  {
   "cell_type": "code",
   "execution_count": 14,
   "metadata": {},
   "outputs": [
    {
     "name": "stdout",
     "output_type": "stream",
     "text": [
      "6\n"
     ]
    }
   ],
   "source": [
    "A = [1,1,2,2,3,3,4,5,6,7,7]\n",
    "print(largest_min_freq(A))"
   ]
  }
 ],
 "metadata": {
  "kernelspec": {
   "display_name": "torch",
   "language": "python",
   "name": "python3"
  },
  "language_info": {
   "codemirror_mode": {
    "name": "ipython",
    "version": 3
   },
   "file_extension": ".py",
   "mimetype": "text/x-python",
   "name": "python",
   "nbconvert_exporter": "python",
   "pygments_lexer": "ipython3",
   "version": "3.9.16"
  }
 },
 "nbformat": 4,
 "nbformat_minor": 2
}
